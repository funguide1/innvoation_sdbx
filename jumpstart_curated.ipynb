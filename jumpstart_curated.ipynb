{
 "cells": [
  {
   "cell_type": "code",
   "execution_count": 2,
   "id": "d644fe3d-0390-48b5-88be-5af3137aa772",
   "metadata": {
    "tags": []
   },
   "outputs": [
    {
     "name": "stdout",
     "output_type": "stream",
     "text": [
      "Collecting git+https://github.com/chrstfu/sagemaker-python-sdk.git@curated_public_hub\n",
      "  Cloning https://github.com/chrstfu/sagemaker-python-sdk.git (to revision curated_public_hub) to /tmp/pip-req-build-5rn9rv3_\n",
      "  Running command git clone --filter=blob:none --quiet https://github.com/chrstfu/sagemaker-python-sdk.git /tmp/pip-req-build-5rn9rv3_\n",
      "  Running command git checkout -b curated_public_hub --track origin/curated_public_hub\n",
      "  Switched to a new branch 'curated_public_hub'\n",
      "  Branch 'curated_public_hub' set up to track remote branch 'curated_public_hub' from 'origin'.\n",
      "  Resolved https://github.com/chrstfu/sagemaker-python-sdk.git to commit 8e2a8b577ba69cf63965f2ac2010ec0a6a3c6fd3\n",
      "  Preparing metadata (setup.py) ... \u001b[?25ldone\n",
      "\u001b[?25hCollecting attrs<24,>=23.1.0 (from sagemaker==2.187.1.dev0)\n",
      "  Downloading attrs-23.2.0-py3-none-any.whl.metadata (9.5 kB)\n",
      "Collecting boto3<2.0,>=1.26.131 (from sagemaker==2.187.1.dev0)\n",
      "  Downloading boto3-1.34.30-py3-none-any.whl.metadata (6.6 kB)\n",
      "Collecting cloudpickle==2.2.1 (from sagemaker==2.187.1.dev0)\n",
      "  Downloading cloudpickle-2.2.1-py3-none-any.whl (25 kB)\n",
      "Collecting google-pasta (from sagemaker==2.187.1.dev0)\n",
      "  Downloading google_pasta-0.2.0-py3-none-any.whl (57 kB)\n",
      "\u001b[2K     \u001b[90m━━━━━━━━━━━━━━━━━━━━━━━━━━━━━━━━━━━━━━━\u001b[0m \u001b[32m57.5/57.5 kB\u001b[0m \u001b[31m495.6 kB/s\u001b[0m eta \u001b[36m0:00:00\u001b[0ma \u001b[36m0:00:01\u001b[0m\n",
      "\u001b[?25hCollecting numpy<2.0,>=1.9.0 (from sagemaker==2.187.1.dev0)\n",
      "  Downloading numpy-1.26.3-cp310-cp310-manylinux_2_17_x86_64.manylinux2014_x86_64.whl.metadata (61 kB)\n",
      "\u001b[2K     \u001b[90m━━━━━━━━━━━━━━━━━━━━━━━━━━━━━━━━━━━━━━━\u001b[0m \u001b[32m61.2/61.2 kB\u001b[0m \u001b[31m931.6 kB/s\u001b[0m eta \u001b[36m0:00:00\u001b[0ma \u001b[36m0:00:01\u001b[0m\n",
      "\u001b[?25hCollecting protobuf<5.0,>=3.12 (from sagemaker==2.187.1.dev0)\n",
      "  Downloading protobuf-4.25.2-cp37-abi3-manylinux2014_x86_64.whl.metadata (541 bytes)\n",
      "Collecting smdebug_rulesconfig==1.0.1 (from sagemaker==2.187.1.dev0)\n",
      "  Downloading smdebug_rulesconfig-1.0.1-py2.py3-none-any.whl (20 kB)\n",
      "Collecting importlib-metadata<7.0,>=1.4.0 (from sagemaker==2.187.1.dev0)\n",
      "  Downloading importlib_metadata-6.11.0-py3-none-any.whl.metadata (4.9 kB)\n",
      "Collecting packaging>=20.0 (from sagemaker==2.187.1.dev0)\n",
      "  Downloading packaging-23.2-py3-none-any.whl.metadata (3.2 kB)\n",
      "Collecting pandas (from sagemaker==2.187.1.dev0)\n",
      "  Downloading pandas-2.2.0-cp310-cp310-manylinux_2_17_x86_64.manylinux2014_x86_64.whl.metadata (19 kB)\n",
      "Collecting pathos (from sagemaker==2.187.1.dev0)\n",
      "  Downloading pathos-0.3.2-py3-none-any.whl.metadata (11 kB)\n",
      "Collecting schema (from sagemaker==2.187.1.dev0)\n",
      "  Downloading schema-0.7.5-py2.py3-none-any.whl (17 kB)\n",
      "Collecting PyYAML~=6.0 (from sagemaker==2.187.1.dev0)\n",
      "  Downloading PyYAML-6.0.1-cp310-cp310-manylinux_2_17_x86_64.manylinux2014_x86_64.whl.metadata (2.1 kB)\n",
      "Collecting jsonschema (from sagemaker==2.187.1.dev0)\n",
      "  Downloading jsonschema-4.21.1-py3-none-any.whl.metadata (7.8 kB)\n",
      "Collecting platformdirs (from sagemaker==2.187.1.dev0)\n",
      "  Downloading platformdirs-4.1.0-py3-none-any.whl.metadata (11 kB)\n",
      "Collecting tblib==1.7.0 (from sagemaker==2.187.1.dev0)\n",
      "  Downloading tblib-1.7.0-py2.py3-none-any.whl (12 kB)\n",
      "Collecting botocore<1.35.0,>=1.34.30 (from boto3<2.0,>=1.26.131->sagemaker==2.187.1.dev0)\n",
      "  Downloading botocore-1.34.30-py3-none-any.whl.metadata (5.7 kB)\n",
      "Collecting jmespath<2.0.0,>=0.7.1 (from boto3<2.0,>=1.26.131->sagemaker==2.187.1.dev0)\n",
      "  Downloading jmespath-1.0.1-py3-none-any.whl (20 kB)\n",
      "Collecting s3transfer<0.11.0,>=0.10.0 (from boto3<2.0,>=1.26.131->sagemaker==2.187.1.dev0)\n",
      "  Using cached s3transfer-0.10.0-py3-none-any.whl.metadata (1.7 kB)\n",
      "Collecting zipp>=0.5 (from importlib-metadata<7.0,>=1.4.0->sagemaker==2.187.1.dev0)\n",
      "  Downloading zipp-3.17.0-py3-none-any.whl.metadata (3.7 kB)\n",
      "Collecting six (from google-pasta->sagemaker==2.187.1.dev0)\n",
      "  Downloading six-1.16.0-py2.py3-none-any.whl (11 kB)\n",
      "Collecting jsonschema-specifications>=2023.03.6 (from jsonschema->sagemaker==2.187.1.dev0)\n",
      "  Downloading jsonschema_specifications-2023.12.1-py3-none-any.whl.metadata (3.0 kB)\n",
      "Collecting referencing>=0.28.4 (from jsonschema->sagemaker==2.187.1.dev0)\n",
      "  Downloading referencing-0.33.0-py3-none-any.whl.metadata (2.7 kB)\n",
      "Collecting rpds-py>=0.7.1 (from jsonschema->sagemaker==2.187.1.dev0)\n",
      "  Downloading rpds_py-0.17.1-cp310-cp310-manylinux_2_17_x86_64.manylinux2014_x86_64.whl.metadata (4.1 kB)\n",
      "Collecting python-dateutil>=2.8.2 (from pandas->sagemaker==2.187.1.dev0)\n",
      "  Downloading python_dateutil-2.8.2-py2.py3-none-any.whl (247 kB)\n",
      "\u001b[2K     \u001b[90m━━━━━━━━━━━━━━━━━━━━━━━━━━━━━━━━━━━━━━━\u001b[0m \u001b[32m247.7/247.7 kB\u001b[0m \u001b[31m2.9 MB/s\u001b[0m eta \u001b[36m0:00:00\u001b[0m00:01\u001b[0m\n",
      "\u001b[?25hCollecting pytz>=2020.1 (from pandas->sagemaker==2.187.1.dev0)\n",
      "  Downloading pytz-2023.4-py2.py3-none-any.whl.metadata (22 kB)\n",
      "Collecting tzdata>=2022.7 (from pandas->sagemaker==2.187.1.dev0)\n",
      "  Downloading tzdata-2023.4-py2.py3-none-any.whl.metadata (1.4 kB)\n",
      "Collecting ppft>=1.7.6.8 (from pathos->sagemaker==2.187.1.dev0)\n",
      "  Downloading ppft-1.7.6.8-py3-none-any.whl.metadata (12 kB)\n",
      "Collecting dill>=0.3.8 (from pathos->sagemaker==2.187.1.dev0)\n",
      "  Downloading dill-0.3.8-py3-none-any.whl.metadata (10 kB)\n",
      "Collecting pox>=0.3.4 (from pathos->sagemaker==2.187.1.dev0)\n",
      "  Downloading pox-0.3.4-py3-none-any.whl.metadata (8.0 kB)\n",
      "Collecting multiprocess>=0.70.16 (from pathos->sagemaker==2.187.1.dev0)\n",
      "  Downloading multiprocess-0.70.16-py310-none-any.whl.metadata (7.2 kB)\n",
      "Collecting contextlib2>=0.5.5 (from schema->sagemaker==2.187.1.dev0)\n",
      "  Downloading contextlib2-21.6.0-py2.py3-none-any.whl (13 kB)\n",
      "Collecting urllib3<2.1,>=1.25.4 (from botocore<1.35.0,>=1.34.30->boto3<2.0,>=1.26.131->sagemaker==2.187.1.dev0)\n",
      "  Using cached urllib3-2.0.7-py3-none-any.whl.metadata (6.6 kB)\n",
      "Downloading attrs-23.2.0-py3-none-any.whl (60 kB)\n",
      "\u001b[2K   \u001b[90m━━━━━━━━━━━━━━━━━━━━━━━━━━━━━━━━━━━━━━━━\u001b[0m \u001b[32m60.8/60.8 kB\u001b[0m \u001b[31m1.1 MB/s\u001b[0m eta \u001b[36m0:00:00\u001b[0meta \u001b[36m0:00:01\u001b[0m\n",
      "\u001b[?25hDownloading boto3-1.34.30-py3-none-any.whl (139 kB)\n",
      "\u001b[2K   \u001b[90m━━━━━━━━━━━━━━━━━━━━━━━━━━━━━━━━━━━━━━━━\u001b[0m \u001b[32m139.3/139.3 kB\u001b[0m \u001b[31m1.5 MB/s\u001b[0m eta \u001b[36m0:00:00\u001b[0mta \u001b[36m0:00:01\u001b[0m\n",
      "\u001b[?25hDownloading importlib_metadata-6.11.0-py3-none-any.whl (23 kB)\n",
      "Downloading numpy-1.26.3-cp310-cp310-manylinux_2_17_x86_64.manylinux2014_x86_64.whl (18.2 MB)\n",
      "\u001b[2K   \u001b[90m━━━━━━━━━━━━━━━━━━━━━━━━━━━━━━━━━━━━━━━━\u001b[0m \u001b[32m18.2/18.2 MB\u001b[0m \u001b[31m35.4 MB/s\u001b[0m eta \u001b[36m0:00:00\u001b[0m:00:01\u001b[0m00:01\u001b[0m\n",
      "\u001b[?25hDownloading packaging-23.2-py3-none-any.whl (53 kB)\n",
      "\u001b[2K   \u001b[90m━━━━━━━━━━━━━━━━━━━━━━━━━━━━━━━━━━━━━━━━\u001b[0m \u001b[32m53.0/53.0 kB\u001b[0m \u001b[31m750.8 kB/s\u001b[0m eta \u001b[36m0:00:00\u001b[0ma \u001b[36m0:00:01\u001b[0m\n",
      "\u001b[?25hDownloading protobuf-4.25.2-cp37-abi3-manylinux2014_x86_64.whl (294 kB)\n",
      "\u001b[2K   \u001b[90m━━━━━━━━━━━━━━━━━━━━━━━━━━━━━━━━━━━━━━━━\u001b[0m \u001b[32m294.6/294.6 kB\u001b[0m \u001b[31m3.2 MB/s\u001b[0m eta \u001b[36m0:00:00\u001b[0mta \u001b[36m0:00:01\u001b[0m\n",
      "\u001b[?25hDownloading PyYAML-6.0.1-cp310-cp310-manylinux_2_17_x86_64.manylinux2014_x86_64.whl (705 kB)\n",
      "\u001b[2K   \u001b[90m━━━━━━━━━━━━━━━━━━━━━━━━━━━━━━━━━━━━━━━━\u001b[0m \u001b[32m705.5/705.5 kB\u001b[0m \u001b[31m7.6 MB/s\u001b[0m eta \u001b[36m0:00:00\u001b[0m:00:01\u001b[0m\n",
      "\u001b[?25hDownloading jsonschema-4.21.1-py3-none-any.whl (85 kB)\n",
      "\u001b[2K   \u001b[90m━━━━━━━━━━━━━━━━━━━━━━━━━━━━━━━━━━━━━━━━\u001b[0m \u001b[32m85.5/85.5 kB\u001b[0m \u001b[31m687.1 kB/s\u001b[0m eta \u001b[36m0:00:00\u001b[0ma \u001b[36m0:00:01\u001b[0m\n",
      "\u001b[?25hDownloading pandas-2.2.0-cp310-cp310-manylinux_2_17_x86_64.manylinux2014_x86_64.whl (13.0 MB)\n",
      "\u001b[2K   \u001b[90m━━━━━━━━━━━━━━━━━━━━━━━━━━━━━━━━━━━━━━━━\u001b[0m \u001b[32m13.0/13.0 MB\u001b[0m \u001b[31m34.5 MB/s\u001b[0m eta \u001b[36m0:00:00\u001b[0m:00:01\u001b[0m00:01\u001b[0m\n",
      "\u001b[?25hDownloading pathos-0.3.2-py3-none-any.whl (82 kB)\n",
      "\u001b[2K   \u001b[90m━━━━━━━━━━━━━━━━━━━━━━━━━━━━━━━━━━━━━━━━\u001b[0m \u001b[32m82.1/82.1 kB\u001b[0m \u001b[31m950.9 kB/s\u001b[0m eta \u001b[36m0:00:00\u001b[0m00:01\u001b[0m\n",
      "\u001b[?25hDownloading platformdirs-4.1.0-py3-none-any.whl (17 kB)\n",
      "Downloading botocore-1.34.30-py3-none-any.whl (11.9 MB)\n",
      "\u001b[2K   \u001b[90m━━━━━━━━━━━━━━━━━━━━━━━━━━━━━━━━━━━━━━━━\u001b[0m \u001b[32m11.9/11.9 MB\u001b[0m \u001b[31m40.8 MB/s\u001b[0m eta \u001b[36m0:00:00\u001b[0m:00:01\u001b[0m0:01\u001b[0m\n",
      "\u001b[?25hDownloading dill-0.3.8-py3-none-any.whl (116 kB)\n",
      "\u001b[2K   \u001b[90m━━━━━━━━━━━━━━━━━━━━━━━━━━━━━━━━━━━━━━━━\u001b[0m \u001b[32m116.3/116.3 kB\u001b[0m \u001b[31m1.9 MB/s\u001b[0m eta \u001b[36m0:00:00\u001b[0mta \u001b[36m0:00:01\u001b[0m\n",
      "\u001b[?25hDownloading jsonschema_specifications-2023.12.1-py3-none-any.whl (18 kB)\n",
      "Downloading multiprocess-0.70.16-py310-none-any.whl (134 kB)\n",
      "\u001b[2K   \u001b[90m━━━━━━━━━━━━━━━━━━━━━━━━━━━━━━━━━━━━━━━━\u001b[0m \u001b[32m134.8/134.8 kB\u001b[0m \u001b[31m1.7 MB/s\u001b[0m eta \u001b[36m0:00:00\u001b[0m:00:01\u001b[0m\n",
      "\u001b[?25hDownloading pox-0.3.4-py3-none-any.whl (29 kB)\n",
      "Downloading ppft-1.7.6.8-py3-none-any.whl (56 kB)\n",
      "\u001b[2K   \u001b[90m━━━━━━━━━━━━━━━━━━━━━━━━━━━━━━━━━━━━━━━━\u001b[0m \u001b[32m56.8/56.8 kB\u001b[0m \u001b[31m897.0 kB/s\u001b[0m eta \u001b[36m0:00:00\u001b[0ma \u001b[36m0:00:01\u001b[0m\n",
      "\u001b[?25hDownloading pytz-2023.4-py2.py3-none-any.whl (506 kB)\n",
      "\u001b[2K   \u001b[90m━━━━━━━━━━━━━━━━━━━━━━━━━━━━━━━━━━━━━━━━\u001b[0m \u001b[32m506.5/506.5 kB\u001b[0m \u001b[31m6.2 MB/s\u001b[0m eta \u001b[36m0:00:00\u001b[0m:00:01\u001b[0m\n",
      "\u001b[?25hDownloading referencing-0.33.0-py3-none-any.whl (26 kB)\n",
      "Downloading rpds_py-0.17.1-cp310-cp310-manylinux_2_17_x86_64.manylinux2014_x86_64.whl (1.2 MB)\n",
      "\u001b[2K   \u001b[90m━━━━━━━━━━━━━━━━━━━━━━━━━━━━━━━━━━━━━━━━\u001b[0m \u001b[32m1.2/1.2 MB\u001b[0m \u001b[31m10.1 MB/s\u001b[0m eta \u001b[36m0:00:00\u001b[0m:00:01\u001b[0m\n",
      "\u001b[?25hUsing cached s3transfer-0.10.0-py3-none-any.whl (82 kB)\n",
      "Downloading tzdata-2023.4-py2.py3-none-any.whl (346 kB)\n",
      "\u001b[2K   \u001b[90m━━━━━━━━━━━━━━━━━━━━━━━━━━━━━━━━━━━━━━━━\u001b[0m \u001b[32m346.6/346.6 kB\u001b[0m \u001b[31m4.9 MB/s\u001b[0m eta \u001b[36m0:00:00\u001b[0m:00:01\u001b[0m\n",
      "\u001b[?25hDownloading zipp-3.17.0-py3-none-any.whl (7.4 kB)\n",
      "Using cached urllib3-2.0.7-py3-none-any.whl (124 kB)\n",
      "Building wheels for collected packages: sagemaker\n",
      "  Building wheel for sagemaker (setup.py) ... \u001b[?25ldone\n",
      "\u001b[?25h  Created wheel for sagemaker: filename=sagemaker-2.187.1.dev0-py2.py3-none-any.whl size=1214185 sha256=dc351584c19d8061a707b1a102e8127704601720d55c2d0ad0bb9b8d33f226e9\n",
      "  Stored in directory: /tmp/pip-ephem-wheel-cache-6ck02q1f/wheels/cc/0f/5c/2f6be8e42232b1b7e7e0370f52edfed4e1143afe30ef112c1d\n",
      "Successfully built sagemaker\n",
      "Installing collected packages: pytz, zipp, urllib3, tzdata, tblib, smdebug_rulesconfig, six, rpds-py, PyYAML, protobuf, ppft, pox, platformdirs, packaging, numpy, jmespath, dill, contextlib2, cloudpickle, attrs, schema, referencing, python-dateutil, multiprocess, importlib-metadata, google-pasta, pathos, pandas, jsonschema-specifications, botocore, s3transfer, jsonschema, boto3, sagemaker\n",
      "  Attempting uninstall: pytz\n",
      "    Found existing installation: pytz 2022.1\n",
      "    Uninstalling pytz-2022.1:\n",
      "      Successfully uninstalled pytz-2022.1\n",
      "  Attempting uninstall: zipp\n",
      "    Found existing installation: zipp 3.8.0\n",
      "    Uninstalling zipp-3.8.0:\n",
      "      Successfully uninstalled zipp-3.8.0\n",
      "  Attempting uninstall: urllib3\n",
      "    Found existing installation: urllib3 2.0.7\n",
      "    Uninstalling urllib3-2.0.7:\n",
      "      Successfully uninstalled urllib3-2.0.7\n",
      "  Attempting uninstall: tzdata\n",
      "    Found existing installation: tzdata 2023.3\n",
      "    Uninstalling tzdata-2023.3:\n",
      "      Successfully uninstalled tzdata-2023.3\n",
      "  Attempting uninstall: tblib\n",
      "    Found existing installation: tblib 1.7.0\n",
      "    Uninstalling tblib-1.7.0:\n",
      "      Successfully uninstalled tblib-1.7.0\n",
      "  Attempting uninstall: smdebug_rulesconfig\n",
      "    Found existing installation: smdebug-rulesconfig 1.0.1\n",
      "    Uninstalling smdebug-rulesconfig-1.0.1:\n",
      "      Successfully uninstalled smdebug-rulesconfig-1.0.1\n",
      "  Attempting uninstall: six\n",
      "    Found existing installation: six 1.16.0\n",
      "    Uninstalling six-1.16.0:\n",
      "      Successfully uninstalled six-1.16.0\n",
      "  Attempting uninstall: rpds-py\n",
      "    Found existing installation: rpds-py 0.13.2\n",
      "    Uninstalling rpds-py-0.13.2:\n",
      "      Successfully uninstalled rpds-py-0.13.2\n",
      "  Attempting uninstall: PyYAML\n",
      "    Found existing installation: PyYAML 6.0\n",
      "    Uninstalling PyYAML-6.0:\n",
      "\u001b[33m      WARNING: Cannot remove entries from nonexistent file /opt/conda/lib/python3.10/site-packages/easy-install.pth\u001b[0m\u001b[33m\n",
      "\u001b[0m      Successfully uninstalled PyYAML-6.0\n",
      "  Attempting uninstall: protobuf\n",
      "    Found existing installation: protobuf 4.25.1\n",
      "    Uninstalling protobuf-4.25.1:\n",
      "      Successfully uninstalled protobuf-4.25.1\n",
      "  Attempting uninstall: ppft\n",
      "    Found existing installation: ppft 1.7.6.7\n",
      "    Uninstalling ppft-1.7.6.7:\n",
      "      Successfully uninstalled ppft-1.7.6.7\n",
      "  Attempting uninstall: pox\n",
      "    Found existing installation: pox 0.3.3\n",
      "    Uninstalling pox-0.3.3:\n",
      "      Successfully uninstalled pox-0.3.3\n",
      "  Attempting uninstall: platformdirs\n",
      "    Found existing installation: platformdirs 2.5.2\n",
      "    Uninstalling platformdirs-2.5.2:\n",
      "      Successfully uninstalled platformdirs-2.5.2\n",
      "  Attempting uninstall: packaging\n",
      "    Found existing installation: packaging 21.3\n",
      "    Uninstalling packaging-21.3:\n",
      "      Successfully uninstalled packaging-21.3\n",
      "  Attempting uninstall: numpy\n",
      "    Found existing installation: numpy 1.26.2\n",
      "    Uninstalling numpy-1.26.2:\n",
      "      Successfully uninstalled numpy-1.26.2\n",
      "  Attempting uninstall: jmespath\n",
      "    Found existing installation: jmespath 0.10.0\n",
      "    Uninstalling jmespath-0.10.0:\n",
      "      Successfully uninstalled jmespath-0.10.0\n",
      "  Attempting uninstall: dill\n",
      "    Found existing installation: dill 0.3.7\n",
      "    Uninstalling dill-0.3.7:\n",
      "      Successfully uninstalled dill-0.3.7\n",
      "  Attempting uninstall: contextlib2\n",
      "    Found existing installation: contextlib2 21.6.0\n",
      "    Uninstalling contextlib2-21.6.0:\n",
      "      Successfully uninstalled contextlib2-21.6.0\n",
      "  Attempting uninstall: cloudpickle\n",
      "    Found existing installation: cloudpickle 2.2.1\n",
      "    Uninstalling cloudpickle-2.2.1:\n",
      "      Successfully uninstalled cloudpickle-2.2.1\n",
      "  Attempting uninstall: attrs\n",
      "    Found existing installation: attrs 23.1.0\n",
      "    Uninstalling attrs-23.1.0:\n",
      "      Successfully uninstalled attrs-23.1.0\n",
      "  Attempting uninstall: schema\n",
      "    Found existing installation: schema 0.7.5\n",
      "    Uninstalling schema-0.7.5:\n",
      "      Successfully uninstalled schema-0.7.5\n",
      "  Attempting uninstall: referencing\n",
      "    Found existing installation: referencing 0.31.1\n",
      "    Uninstalling referencing-0.31.1:\n",
      "      Successfully uninstalled referencing-0.31.1\n",
      "  Attempting uninstall: python-dateutil\n",
      "    Found existing installation: python-dateutil 2.8.2\n",
      "    Uninstalling python-dateutil-2.8.2:\n",
      "      Successfully uninstalled python-dateutil-2.8.2\n",
      "  Attempting uninstall: multiprocess\n",
      "    Found existing installation: multiprocess 0.70.15\n",
      "    Uninstalling multiprocess-0.70.15:\n",
      "      Successfully uninstalled multiprocess-0.70.15\n",
      "  Attempting uninstall: importlib-metadata\n",
      "    Found existing installation: importlib-metadata 4.11.3\n",
      "    Uninstalling importlib-metadata-4.11.3:\n",
      "      Successfully uninstalled importlib-metadata-4.11.3\n",
      "  Attempting uninstall: google-pasta\n",
      "    Found existing installation: google-pasta 0.2.0\n",
      "    Uninstalling google-pasta-0.2.0:\n",
      "      Successfully uninstalled google-pasta-0.2.0\n",
      "  Attempting uninstall: pathos\n",
      "    Found existing installation: pathos 0.3.1\n",
      "    Uninstalling pathos-0.3.1:\n",
      "      Successfully uninstalled pathos-0.3.1\n",
      "  Attempting uninstall: pandas\n",
      "    Found existing installation: pandas 2.1.3\n",
      "    Uninstalling pandas-2.1.3:\n",
      "      Successfully uninstalled pandas-2.1.3\n",
      "  Attempting uninstall: jsonschema-specifications\n",
      "    Found existing installation: jsonschema-specifications 2023.11.2\n",
      "    Uninstalling jsonschema-specifications-2023.11.2:\n",
      "      Successfully uninstalled jsonschema-specifications-2023.11.2\n",
      "  Attempting uninstall: botocore\n",
      "    Found existing installation: botocore 1.34.25\n",
      "    Uninstalling botocore-1.34.25:\n",
      "      Successfully uninstalled botocore-1.34.25\n",
      "  Attempting uninstall: s3transfer\n",
      "    Found existing installation: s3transfer 0.10.0\n",
      "    Uninstalling s3transfer-0.10.0:\n",
      "      Successfully uninstalled s3transfer-0.10.0\n",
      "  Attempting uninstall: jsonschema\n",
      "    Found existing installation: jsonschema 4.20.0\n",
      "    Uninstalling jsonschema-4.20.0:\n",
      "      Successfully uninstalled jsonschema-4.20.0\n",
      "  Attempting uninstall: boto3\n",
      "    Found existing installation: boto3 1.34.25\n",
      "    Uninstalling boto3-1.34.25:\n",
      "      Successfully uninstalled boto3-1.34.25\n",
      "  Attempting uninstall: sagemaker\n",
      "    Found existing installation: sagemaker 2.199.0\n",
      "    Uninstalling sagemaker-2.199.0:\n",
      "      Successfully uninstalled sagemaker-2.199.0\n",
      "\u001b[31mERROR: pip's dependency resolver does not currently take into account all the packages that are installed. This behaviour is the source of the following dependency conflicts.\n",
      "daal4py 2021.6.0 requires daal==2021.4.0, which is not installed.\n",
      "spyder 5.3.3 requires pyqt5<5.16, which is not installed.\n",
      "spyder 5.3.3 requires pyqtwebengine<5.16, which is not installed.\n",
      "awscli 1.31.9 requires botocore==1.33.9, but you have botocore 1.34.30 which is incompatible.\n",
      "awscli 1.31.9 requires s3transfer<0.9.0,>=0.8.0, but you have s3transfer 0.10.0 which is incompatible.\n",
      "distributed 2022.7.0 requires tornado<6.2,>=6.0.3, but you have tornado 6.4 which is incompatible.\n",
      "jupyterlab 3.4.4 requires jupyter-server~=1.16, but you have jupyter-server 2.12.1 which is incompatible.\n",
      "jupyterlab-server 2.10.3 requires jupyter-server~=1.4, but you have jupyter-server 2.12.1 which is incompatible.\n",
      "notebook 6.5.6 requires jupyter-client<8,>=5.3.4, but you have jupyter-client 8.6.0 which is incompatible.\n",
      "notebook 6.5.6 requires pyzmq<25,>=17, but you have pyzmq 25.1.2 which is incompatible.\n",
      "numba 0.55.1 requires numpy<1.22,>=1.18, but you have numpy 1.26.3 which is incompatible.\n",
      "panel 0.13.1 requires bokeh<2.5.0,>=2.4.0, but you have bokeh 3.3.2 which is incompatible.\n",
      "sagemaker-datawrangler 0.4.3 requires sagemaker-data-insights==0.4.0, but you have sagemaker-data-insights 0.3.3 which is incompatible.\n",
      "spyder 5.3.3 requires ipython<8.0.0,>=7.31.1, but you have ipython 8.18.1 which is incompatible.\n",
      "spyder 5.3.3 requires pylint<3.0,>=2.5.0, but you have pylint 3.0.2 which is incompatible.\n",
      "spyder-kernels 2.3.3 requires ipython<8,>=7.31.1; python_version >= \"3\", but you have ipython 8.18.1 which is incompatible.\n",
      "spyder-kernels 2.3.3 requires jupyter-client<8,>=7.3.4; python_version >= \"3\", but you have jupyter-client 8.6.0 which is incompatible.\u001b[0m\u001b[31m\n",
      "\u001b[0mSuccessfully installed PyYAML-6.0.1 attrs-23.2.0 boto3-1.34.30 botocore-1.34.30 cloudpickle-2.2.1 contextlib2-21.6.0 dill-0.3.8 google-pasta-0.2.0 importlib-metadata-6.11.0 jmespath-1.0.1 jsonschema-4.21.1 jsonschema-specifications-2023.12.1 multiprocess-0.70.16 numpy-1.26.3 packaging-23.2 pandas-2.2.0 pathos-0.3.2 platformdirs-4.1.0 pox-0.3.4 ppft-1.7.6.8 protobuf-4.25.2 python-dateutil-2.8.2 pytz-2023.4 referencing-0.33.0 rpds-py-0.17.1 s3transfer-0.10.0 sagemaker-2.187.1.dev0 schema-0.7.5 six-1.16.0 smdebug_rulesconfig-1.0.1 tblib-1.7.0 tzdata-2023.4 urllib3-2.0.7 zipp-3.17.0\n",
      "\u001b[33mWARNING: Running pip as the 'root' user can result in broken permissions and conflicting behaviour with the system package manager. It is recommended to use a virtual environment instead: https://pip.pypa.io/warnings/venv\u001b[0m\u001b[33m\n",
      "\u001b[0m\n",
      "\u001b[1m[\u001b[0m\u001b[34;49mnotice\u001b[0m\u001b[1;39;49m]\u001b[0m\u001b[39;49m A new release of pip is available: \u001b[0m\u001b[31;49m23.3.1\u001b[0m\u001b[39;49m -> \u001b[0m\u001b[32;49m23.3.2\u001b[0m\n",
      "\u001b[1m[\u001b[0m\u001b[34;49mnotice\u001b[0m\u001b[1;39;49m]\u001b[0m\u001b[39;49m To update, run: \u001b[0m\u001b[32;49mpip install --upgrade pip\u001b[0m\n"
     ]
    }
   ],
   "source": [
    "# Install the Sagemaker Python SDK\n",
    "!pip install git+https://github.com/chrstfu/sagemaker-python-sdk.git@curated_public_hub --force-reinstall\n"
   ]
  },
  {
   "cell_type": "code",
   "execution_count": 7,
   "id": "6f503f19-4585-4b53-8513-9e81516b6fdb",
   "metadata": {
    "tags": []
   },
   "outputs": [],
   "source": [
    "# Attach policies to IAM Role\n",
    "REGION = \"us-east-1\"\n",
    "CURATED_HUB_NAME = \"test-curated-hub\"\n",
    "HUB_BUCKET_NAME = \"test-curated-hub-us-east-1-01302024\"\n",
    "HUB_BUCKET_NAME_PREFIX = \"test-public-models\""
   ]
  },
  {
   "cell_type": "code",
   "execution_count": 8,
   "id": "e894104e-ec53-4e54-a84d-dac5f61a715a",
   "metadata": {
    "tags": []
   },
   "outputs": [],
   "source": [
    "# Add policies if necessary"
   ]
  },
  {
   "cell_type": "code",
   "execution_count": 10,
   "id": "8dc3035d-69e0-4777-b7c5-053b356f3edc",
   "metadata": {
    "tags": []
   },
   "outputs": [
    {
     "name": "stdout",
     "output_type": "stream",
     "text": [
      "Curated Hub configuration setup complete:\n",
      "The Curated Hub WILL create a new hub with the name test-curated-hub in us-east-1.\n",
      "The Curated Hub WILL create a new S3 hub bucket with the name test-curated-hub-us-east-1-01302024 in us-east-1.\n",
      "Creating the Curated Hub test-curated-hub\n",
      "Creating S3 hub bucket test-curated-hub-us-east-1-01302024 in us-east-1...\n",
      "S3 hub bucket test-curated-hub-us-east-1-01302024 created in us-east-1!\n",
      "Creating Curated Hub test-curated-hub in us-east-1...\n",
      "Curated Hub test-curated-hub created in us-east-1!\n"
     ]
    }
   ],
   "source": [
    "#Configure private curated hub\n",
    "\n",
    "from sagemaker.jumpstart.curated_hub.jumpstart_curated_hub import JumpStartCuratedHub\n",
    "\n",
    "test_curated_hub = JumpStartCuratedHub(region = REGION)\n",
    "test_curated_hub.create_or_reuse(\n",
    "    curated_hub_name = CURATED_HUB_NAME,\n",
    "    hub_s3_bucket_name_override = HUB_BUCKET_NAME,\n",
    "    hub_s3_key_prefix_override = HUB_BUCKET_NAME_PREFIX\n",
    ")"
   ]
  },
  {
   "cell_type": "code",
   "execution_count": 11,
   "id": "b5c4a049-d115-438e-8831-f8afc69f438c",
   "metadata": {
    "tags": []
   },
   "outputs": [],
   "source": [
    "#Add policy to deny access to public hub and allow access to private hub"
   ]
  },
  {
   "cell_type": "code",
   "execution_count": 28,
   "id": "17d9e005-3e34-4123-9796-f52d1dc95998",
   "metadata": {
    "tags": []
   },
   "outputs": [],
   "source": [
    "# Add models from public hub to private hub\n",
    "\n",
    "from sagemaker.jumpstart.curated_hub.utils import PublicHubModel\n",
    "\n",
    "test_models = [\n",
    "    PublicHubModel(id=\"xgboost-classification-model\", version=\"*\"),\n",
    "    PublicHubModel(id=\"xgboost-classification-snowflake\", version=\"*\"),\n",
    "]"
   ]
  },
  {
   "cell_type": "code",
   "execution_count": 31,
   "id": "cc9202a0-1a9a-482d-a21c-a7444ec217b6",
   "metadata": {
    "tags": []
   },
   "outputs": [
    {
     "name": "stdout",
     "output_type": "stream",
     "text": [
      "Importing 2 models to curated private hub...\n",
      "Importing model xgboost-classification-model version 2.0.0 to curated private hub...\n",
      "Importing model xgboost-classification-snowflake version 1.0.0 to curated private hub...\n",
      "Detected that training dataset is the same in destination bucket. Skipping copy.\n",
      "Detected that inference artifact is the same in destination bucket. Skipping copy.\n",
      "Detected that inference script is the same in destination bucket. Skipping copy.\n",
      "Detected that training dataset is the same in destination bucket. Skipping copy.\n",
      "Detected that training dataset is the same in destination bucket. Skipping copy.\n",
      "Detected that training script is the same in destination bucket. Skipping copy.\n",
      "Detected that demo notebook is the same in destination bucket. Skipping copy.\n",
      "Detected that training artifact is the same in destination bucket. Skipping copy.\n",
      "Detected that markdown is the same in destination bucket. Skipping copy.\n"
     ]
    },
    {
     "ename": "RuntimeError",
     "evalue": "Failures when importing models to curated hub in parallel: [{'Exception': KeyError('xgboost-classification-snowflake'), 'Traceback': 'Traceback (most recent call last):\\n  File \"/opt/conda/lib/python3.10/concurrent/futures/thread.py\", line 58, in run\\n    result = self.fn(*self.args, **self.kwargs)\\n  File \"/opt/conda/lib/python3.10/site-packages/sagemaker/jumpstart/curated_hub/jumpstart_curated_hub.py\", line 464, in _import_model\\n    self._content_copier.copy_hub_content_dependencies_to_hub_bucket(\\n  File \"/opt/conda/lib/python3.10/site-packages/sagemaker/jumpstart/curated_hub/content_copy.py\", line 78, in copy_hub_content_dependencies_to_hub_bucket\\n    copy_configs.extend(self._get_copy_configs_for_training_dependencies(model_specs))\\n  File \"/opt/conda/lib/python3.10/site-packages/sagemaker/jumpstart/curated_hub/content_copy.py\", line 155, in _get_copy_configs_for_training_dependencies\\n    copy_configs.extend(self._get_copy_configs_for_training_dataset(model_specs))\\n  File \"/opt/conda/lib/python3.10/site-packages/sagemaker/jumpstart/curated_hub/content_copy.py\", line 163, in _get_copy_configs_for_training_dataset\\n    src_prefix = self._src_s3_accessor.get_default_training_dataset_s3_reference(model_specs)\\n  File \"/opt/conda/lib/python3.10/site-packages/sagemaker/jumpstart/curated_hub/accessors/public_hub_s3_accessor.py\", line 81, in get_default_training_dataset_s3_reference\\n    self.get_bucket_name(), self._get_training_dataset_prefix(model_specs)\\n  File \"/opt/conda/lib/python3.10/site-packages/sagemaker/jumpstart/curated_hub/accessors/public_hub_s3_accessor.py\", line 86, in _get_training_dataset_prefix\\n    studio_model_metadata = self._studio_metadata_map[model_specs.model_id]\\nKeyError: \\'xgboost-classification-snowflake\\'\\n'}, {'Exception': ResourceInUse('An error occurred (ResourceInUse) when calling the ImportHubContent operation: Hub content with version 200000000 already exists.'), 'Traceback': 'Traceback (most recent call last):\\n  File \"/opt/conda/lib/python3.10/concurrent/futures/thread.py\", line 58, in run\\n    result = self.fn(*self.args, **self.kwargs)\\n  File \"/opt/conda/lib/python3.10/site-packages/sagemaker/jumpstart/curated_hub/jumpstart_curated_hub.py\", line 467, in _import_model\\n    self._import_public_model_to_hub(model_specs=public_js_model_specs)\\n  File \"/opt/conda/lib/python3.10/site-packages/sagemaker/jumpstart/curated_hub/jumpstart_curated_hub.py\", line 488, in _import_public_model_to_hub\\n    self._curated_hub_client.import_hub_content(\\n  File \"/opt/conda/lib/python3.10/site-packages/sagemaker/jumpstart/curated_hub/hub_client.py\", line 72, in import_hub_content\\n    self._sm_client.import_hub_content(\\n  File \"/opt/conda/lib/python3.10/site-packages/botocore/client.py\", line 553, in _api_call\\n    return self._make_api_call(operation_name, kwargs)\\n  File \"/opt/conda/lib/python3.10/site-packages/botocore/client.py\", line 1009, in _make_api_call\\n    raise error_class(parsed_response, operation_name)\\nbotocore.errorfactory.ResourceInUse: An error occurred (ResourceInUse) when calling the ImportHubContent operation: Hub content with version 200000000 already exists.\\n'}]",
     "output_type": "error",
     "traceback": [
      "\u001b[0;31m---------------------------------------------------------------------------\u001b[0m",
      "\u001b[0;31mRuntimeError\u001b[0m                              Traceback (most recent call last)",
      "Cell \u001b[0;32mIn[31], line 1\u001b[0m\n\u001b[0;32m----> 1\u001b[0m \u001b[43mtest_curated_hub\u001b[49m\u001b[38;5;241;43m.\u001b[39;49m\u001b[43msync\u001b[49m\u001b[43m(\u001b[49m\u001b[43mtest_models\u001b[49m\u001b[43m,\u001b[49m\u001b[43m \u001b[49m\u001b[43mforce_update\u001b[49m\u001b[43m \u001b[49m\u001b[38;5;241;43m=\u001b[39;49m\u001b[43m \u001b[49m\u001b[38;5;28;43;01mTrue\u001b[39;49;00m\u001b[43m)\u001b[49m\n",
      "File \u001b[0;32m/opt/conda/lib/python3.10/site-packages/sagemaker/jumpstart/curated_hub/jumpstart_curated_hub.py:395\u001b[0m, in \u001b[0;36mJumpStartCuratedHub.sync\u001b[0;34m(self, model_ids, force_update)\u001b[0m\n\u001b[1;32m    389\u001b[0m     \u001b[38;5;28mprint\u001b[39m(\n\u001b[1;32m    390\u001b[0m         \u001b[38;5;124m\"\u001b[39m\u001b[38;5;124mFiltering out models that are already in hub.\u001b[39m\u001b[38;5;124m\"\u001b[39m\n\u001b[1;32m    391\u001b[0m         \u001b[38;5;124m\"\u001b[39m\u001b[38;5;124m If you still wish to update these models, set `force_update` to True\u001b[39m\u001b[38;5;124m\"\u001b[39m\n\u001b[1;32m    392\u001b[0m     )\n\u001b[1;32m    393\u001b[0m     model_specs \u001b[38;5;241m=\u001b[39m \u001b[38;5;28mlist\u001b[39m(\u001b[38;5;28mfilter\u001b[39m(\u001b[38;5;28mself\u001b[39m\u001b[38;5;241m.\u001b[39m_model_needs_update, model_specs))\n\u001b[0;32m--> 395\u001b[0m \u001b[38;5;28;43mself\u001b[39;49m\u001b[38;5;241;43m.\u001b[39;49m\u001b[43m_import_models\u001b[49m\u001b[43m(\u001b[49m\u001b[43mmodel_specs\u001b[49m\u001b[43m)\u001b[49m\n",
      "File \u001b[0;32m/opt/conda/lib/python3.10/site-packages/sagemaker/jumpstart/curated_hub/jumpstart_curated_hub.py:453\u001b[0m, in \u001b[0;36mJumpStartCuratedHub._import_models\u001b[0;34m(self, model_specs)\u001b[0m\n\u001b[1;32m    444\u001b[0m         failed_imports\u001b[38;5;241m.\u001b[39mappend(\n\u001b[1;32m    445\u001b[0m             {\n\u001b[1;32m    446\u001b[0m                 \u001b[38;5;124m\"\u001b[39m\u001b[38;5;124mException\u001b[39m\u001b[38;5;124m\"\u001b[39m: exception,\n\u001b[0;32m   (...)\u001b[0m\n\u001b[1;32m    450\u001b[0m             }\n\u001b[1;32m    451\u001b[0m         )\n\u001b[1;32m    452\u001b[0m \u001b[38;5;28;01mif\u001b[39;00m failed_imports:\n\u001b[0;32m--> 453\u001b[0m     \u001b[38;5;28;01mraise\u001b[39;00m \u001b[38;5;167;01mRuntimeError\u001b[39;00m(\n\u001b[1;32m    454\u001b[0m         \u001b[38;5;124mf\u001b[39m\u001b[38;5;124m\"\u001b[39m\u001b[38;5;124mFailures when importing models to curated hub in parallel: \u001b[39m\u001b[38;5;132;01m{\u001b[39;00mfailed_imports\u001b[38;5;132;01m}\u001b[39;00m\u001b[38;5;124m\"\u001b[39m\n\u001b[1;32m    455\u001b[0m     )\n",
      "\u001b[0;31mRuntimeError\u001b[0m: Failures when importing models to curated hub in parallel: [{'Exception': KeyError('xgboost-classification-snowflake'), 'Traceback': 'Traceback (most recent call last):\\n  File \"/opt/conda/lib/python3.10/concurrent/futures/thread.py\", line 58, in run\\n    result = self.fn(*self.args, **self.kwargs)\\n  File \"/opt/conda/lib/python3.10/site-packages/sagemaker/jumpstart/curated_hub/jumpstart_curated_hub.py\", line 464, in _import_model\\n    self._content_copier.copy_hub_content_dependencies_to_hub_bucket(\\n  File \"/opt/conda/lib/python3.10/site-packages/sagemaker/jumpstart/curated_hub/content_copy.py\", line 78, in copy_hub_content_dependencies_to_hub_bucket\\n    copy_configs.extend(self._get_copy_configs_for_training_dependencies(model_specs))\\n  File \"/opt/conda/lib/python3.10/site-packages/sagemaker/jumpstart/curated_hub/content_copy.py\", line 155, in _get_copy_configs_for_training_dependencies\\n    copy_configs.extend(self._get_copy_configs_for_training_dataset(model_specs))\\n  File \"/opt/conda/lib/python3.10/site-packages/sagemaker/jumpstart/curated_hub/content_copy.py\", line 163, in _get_copy_configs_for_training_dataset\\n    src_prefix = self._src_s3_accessor.get_default_training_dataset_s3_reference(model_specs)\\n  File \"/opt/conda/lib/python3.10/site-packages/sagemaker/jumpstart/curated_hub/accessors/public_hub_s3_accessor.py\", line 81, in get_default_training_dataset_s3_reference\\n    self.get_bucket_name(), self._get_training_dataset_prefix(model_specs)\\n  File \"/opt/conda/lib/python3.10/site-packages/sagemaker/jumpstart/curated_hub/accessors/public_hub_s3_accessor.py\", line 86, in _get_training_dataset_prefix\\n    studio_model_metadata = self._studio_metadata_map[model_specs.model_id]\\nKeyError: \\'xgboost-classification-snowflake\\'\\n'}, {'Exception': ResourceInUse('An error occurred (ResourceInUse) when calling the ImportHubContent operation: Hub content with version 200000000 already exists.'), 'Traceback': 'Traceback (most recent call last):\\n  File \"/opt/conda/lib/python3.10/concurrent/futures/thread.py\", line 58, in run\\n    result = self.fn(*self.args, **self.kwargs)\\n  File \"/opt/conda/lib/python3.10/site-packages/sagemaker/jumpstart/curated_hub/jumpstart_curated_hub.py\", line 467, in _import_model\\n    self._import_public_model_to_hub(model_specs=public_js_model_specs)\\n  File \"/opt/conda/lib/python3.10/site-packages/sagemaker/jumpstart/curated_hub/jumpstart_curated_hub.py\", line 488, in _import_public_model_to_hub\\n    self._curated_hub_client.import_hub_content(\\n  File \"/opt/conda/lib/python3.10/site-packages/sagemaker/jumpstart/curated_hub/hub_client.py\", line 72, in import_hub_content\\n    self._sm_client.import_hub_content(\\n  File \"/opt/conda/lib/python3.10/site-packages/botocore/client.py\", line 553, in _api_call\\n    return self._make_api_call(operation_name, kwargs)\\n  File \"/opt/conda/lib/python3.10/site-packages/botocore/client.py\", line 1009, in _make_api_call\\n    raise error_class(parsed_response, operation_name)\\nbotocore.errorfactory.ResourceInUse: An error occurred (ResourceInUse) when calling the ImportHubContent operation: Hub content with version 200000000 already exists.\\n'}]"
     ]
    }
   ],
   "source": [
    "test_curated_hub.sync(test_models, force_update = True)"
   ]
  },
  {
   "cell_type": "code",
   "execution_count": 32,
   "id": "9321d3c2-a619-40b3-9d9e-56699bbfcc1a",
   "metadata": {
    "tags": []
   },
   "outputs": [
    {
     "name": "stdout",
     "output_type": "stream",
     "text": [
      "Models on the hub test-curated-hub: [{'HubContentName': 'xgboost-classification-model', 'HubContentVersion': '2.0.0'}]\n"
     ]
    }
   ],
   "source": [
    "# Check out the new models on the curated hub\n",
    "\n",
    "test_curated_hub.list_models()"
   ]
  },
  {
   "cell_type": "code",
   "execution_count": 39,
   "id": "1740cd0d-4a8e-4937-80fe-d29c199f5bd5",
   "metadata": {
    "tags": []
   },
   "outputs": [],
   "source": [
    "# Add models from public hub to private hub\n",
    "\n",
    "from sagemaker.jumpstart.curated_hub.utils import PublicHubModel\n",
    "\n",
    "test_models = [\n",
    "    PublicHubModel(id=\"huggingface-llm-falcon-7b-bf16\", version=\"*\"),\n",
    "]"
   ]
  },
  {
   "cell_type": "code",
   "execution_count": 40,
   "id": "1fff5a30-2af8-4252-ac6b-7e45e966b563",
   "metadata": {
    "tags": []
   },
   "outputs": [
    {
     "name": "stdout",
     "output_type": "stream",
     "text": [
      "Filtering out models that are already in hub. If you still wish to update these models, set `force_update` to True\n",
      "Importing 1 models to curated private hub...\n",
      "Importing model huggingface-llm-falcon-7b-bf16 version 1.2.1 to curated private hub...\n",
      "Copying inference artifact from jumpstart-cache-prod-us-east-1/huggingface-infer/prepack/v1.0.1/infer-prepack-huggingface-llm-falcon-7b-bf16.tar.gz to test-curated-hub-us-east-1-01302024/test-public-models/Model/huggingface-llm-falcon-7b-bf16-1e9c09c6-6dcd-4a85-8a5a-b362de213e8a/1.2.1/host/model.tar.gz...\n",
      "Copying training artifact from jumpstart-cache-prod-us-east-1/huggingface-training/train-huggingface-llm-falcon-7b-bf16.tar.gz to test-curated-hub-us-east-1-01302024/test-public-models/Model/huggingface-llm-falcon-7b-bf16-1e9c09c6-6dcd-4a85-8a5a-b362de213e8a/1.2.1/train/model.tar.gz...\n",
      "Copying training dataset from jumpstart-cache-prod-us-east-1/training-datasets/sec_amazon/ to test-curated-hub-us-east-1-01302024/test-public-models/Model/huggingface-llm-falcon-7b-bf16-1e9c09c6-6dcd-4a85-8a5a-b362de213e8a/1.2.1/training-datasets/sec_amazon/...\n",
      "Copying training dataset from jumpstart-cache-prod-us-east-1/training-datasets/sec_amazon/AMZN_2021_2022_train_js.txt to test-curated-hub-us-east-1-01302024/test-public-models/Model/huggingface-llm-falcon-7b-bf16-1e9c09c6-6dcd-4a85-8a5a-b362de213e8a/1.2.1/training-datasets/sec_amazon/AMZN_2021_2022_train_js.txt...\n",
      "Copying markdown from jumpstart-cache-prod-us-east-1/huggingface-metadata/huggingface-llm-falcon-7b-bf16.md to test-curated-hub-us-east-1-01302024/test-public-models/Model/huggingface-llm-falcon-7b-bf16-1e9c09c6-6dcd-4a85-8a5a-b362de213e8a/1.2.1/markdown.md...\n",
      "Copying demo notebook from jumpstart-cache-prod-us-east-1/huggingface-notebooks/huggingface-llm-falcon-7b-bf16-inference.ipynb to test-curated-hub-us-east-1-01302024/test-public-models/Model/huggingface-llm-falcon-7b-bf16-1e9c09c6-6dcd-4a85-8a5a-b362de213e8a/1.2.1/host/notebook.ipynb...\n",
      "Copying training script from jumpstart-cache-prod-us-east-1/source-directory-tarballs/huggingface/transfer_learning/llm/prepack/v1.0.3/sourcedir.tar.gz to test-curated-hub-us-east-1-01302024/test-public-models/Model/huggingface-llm-falcon-7b-bf16-1e9c09c6-6dcd-4a85-8a5a-b362de213e8a/1.2.1/train/sourcedir.tar.gz...\n",
      "Copying training dataset from jumpstart-cache-prod-us-east-1/training-datasets/sec_amazon/ to test-curated-hub-us-east-1-01302024/test-public-models/Model/huggingface-llm-falcon-7b-bf16-1e9c09c6-6dcd-4a85-8a5a-b362de213e8a/1.2.1/training-datasets/sec_amazon/ complete!\n",
      "Copying demo notebook from jumpstart-cache-prod-us-east-1/huggingface-notebooks/huggingface-llm-falcon-7b-bf16-inference.ipynb to test-curated-hub-us-east-1-01302024/test-public-models/Model/huggingface-llm-falcon-7b-bf16-1e9c09c6-6dcd-4a85-8a5a-b362de213e8a/1.2.1/host/notebook.ipynb complete!\n",
      "Copying markdown from jumpstart-cache-prod-us-east-1/huggingface-metadata/huggingface-llm-falcon-7b-bf16.md to test-curated-hub-us-east-1-01302024/test-public-models/Model/huggingface-llm-falcon-7b-bf16-1e9c09c6-6dcd-4a85-8a5a-b362de213e8a/1.2.1/markdown.md complete!\n",
      "Copying training dataset from jumpstart-cache-prod-us-east-1/training-datasets/sec_amazon/AMZN_2021_2022_train_js.txt to test-curated-hub-us-east-1-01302024/test-public-models/Model/huggingface-llm-falcon-7b-bf16-1e9c09c6-6dcd-4a85-8a5a-b362de213e8a/1.2.1/training-datasets/sec_amazon/AMZN_2021_2022_train_js.txt complete!\n",
      "Copying training script from jumpstart-cache-prod-us-east-1/source-directory-tarballs/huggingface/transfer_learning/llm/prepack/v1.0.3/sourcedir.tar.gz to test-curated-hub-us-east-1-01302024/test-public-models/Model/huggingface-llm-falcon-7b-bf16-1e9c09c6-6dcd-4a85-8a5a-b362de213e8a/1.2.1/train/sourcedir.tar.gz complete!\n",
      "Copying inference artifact from jumpstart-cache-prod-us-east-1/huggingface-infer/prepack/v1.0.1/infer-prepack-huggingface-llm-falcon-7b-bf16.tar.gz to test-curated-hub-us-east-1-01302024/test-public-models/Model/huggingface-llm-falcon-7b-bf16-1e9c09c6-6dcd-4a85-8a5a-b362de213e8a/1.2.1/host/model.tar.gz complete!\n",
      "Copying training artifact from jumpstart-cache-prod-us-east-1/huggingface-training/train-huggingface-llm-falcon-7b-bf16.tar.gz to test-curated-hub-us-east-1-01302024/test-public-models/Model/huggingface-llm-falcon-7b-bf16-1e9c09c6-6dcd-4a85-8a5a-b362de213e8a/1.2.1/train/model.tar.gz complete!\n",
      "Importing model huggingface-llm-falcon-7b-bf16 version 1.2.1 to curated private hub complete!\n"
     ]
    }
   ],
   "source": [
    "test_curated_hub.sync(test_models)"
   ]
  },
  {
   "cell_type": "code",
   "execution_count": 41,
   "id": "92e6bde5-d5a0-46b1-ac1a-137942bc3288",
   "metadata": {
    "tags": []
   },
   "outputs": [
    {
     "name": "stdout",
     "output_type": "stream",
     "text": [
      "Models on the hub test-curated-hub: [{'HubContentName': 'huggingface-llm-falcon-7b-bf16', 'HubContentVersion': '1.2.1'}, {'HubContentName': 'xgboost-classification-model', 'HubContentVersion': '2.0.0'}]\n"
     ]
    }
   ],
   "source": [
    "# Check out the new models on the curated hub\n",
    "\n",
    "test_curated_hub.list_models()"
   ]
  },
  {
   "cell_type": "code",
   "execution_count": 43,
   "id": "833a54a3-89e0-4b11-a779-b07a3bf84329",
   "metadata": {
    "tags": []
   },
   "outputs": [],
   "source": [
    "# Add models from public hub to private hub\n",
    "\n",
    "from sagemaker.jumpstart.curated_hub.utils import PublicHubModel\n",
    "\n",
    "test_models = [\n",
    "    PublicHubModel(id=\"huggingface-llm-falcon-40b-bf16\", version=\"*\"),\n",
    "]"
   ]
  },
  {
   "cell_type": "code",
   "execution_count": null,
   "id": "97c3ec00-e3d9-469e-a082-056169432086",
   "metadata": {
    "tags": []
   },
   "outputs": [
    {
     "name": "stdout",
     "output_type": "stream",
     "text": [
      "Filtering out models that are already in hub. If you still wish to update these models, set `force_update` to True\n",
      "Importing 1 models to curated private hub...\n",
      "Importing model huggingface-llm-falcon-40b-bf16 version 1.2.0 to curated private hub...\n",
      "Copying inference artifact from jumpstart-cache-prod-us-east-1/huggingface-infer/prepack/v1.0.1/infer-prepack-huggingface-llm-falcon-40b-bf16.tar.gz to test-curated-hub-us-east-1-01302024/test-public-models/Model/huggingface-llm-falcon-40b-bf16-1e9c09c6-6dcd-4a85-8a5a-b362de213e8a/1.2.0/host/model.tar.gz...\n",
      "Copying training dataset from jumpstart-cache-prod-us-east-1/training-datasets/sec_amazon/ to test-curated-hub-us-east-1-01302024/test-public-models/Model/huggingface-llm-falcon-40b-bf16-1e9c09c6-6dcd-4a85-8a5a-b362de213e8a/1.2.0/training-datasets/sec_amazon/...\n",
      "Copying training dataset from jumpstart-cache-prod-us-east-1/training-datasets/sec_amazon/AMZN_2021_2022_train_js.txt to test-curated-hub-us-east-1-01302024/test-public-models/Model/huggingface-llm-falcon-40b-bf16-1e9c09c6-6dcd-4a85-8a5a-b362de213e8a/1.2.0/training-datasets/sec_amazon/AMZN_2021_2022_train_js.txt...\n",
      "Copying markdown from jumpstart-cache-prod-us-east-1/huggingface-metadata/huggingface-llm-falcon-40b-bf16.md to test-curated-hub-us-east-1-01302024/test-public-models/Model/huggingface-llm-falcon-40b-bf16-1e9c09c6-6dcd-4a85-8a5a-b362de213e8a/1.2.0/markdown.md...\n",
      "Copying demo notebook from jumpstart-cache-prod-us-east-1/huggingface-notebooks/huggingface-llm-falcon-40b-bf16-inference.ipynb to test-curated-hub-us-east-1-01302024/test-public-models/Model/huggingface-llm-falcon-40b-bf16-1e9c09c6-6dcd-4a85-8a5a-b362de213e8a/1.2.0/host/notebook.ipynb...\n",
      "Copying training artifact from jumpstart-cache-prod-us-east-1/huggingface-training/train-huggingface-llm-falcon-40b-bf16.tar.gz to test-curated-hub-us-east-1-01302024/test-public-models/Model/huggingface-llm-falcon-40b-bf16-1e9c09c6-6dcd-4a85-8a5a-b362de213e8a/1.2.0/train/model.tar.gz...\n",
      "Copying training script from jumpstart-cache-prod-us-east-1/source-directory-tarballs/huggingface/transfer_learning/llm/prepack/v1.0.3/sourcedir.tar.gz to test-curated-hub-us-east-1-01302024/test-public-models/Model/huggingface-llm-falcon-40b-bf16-1e9c09c6-6dcd-4a85-8a5a-b362de213e8a/1.2.0/train/sourcedir.tar.gz...\n",
      "Copying training dataset from jumpstart-cache-prod-us-east-1/training-datasets/sec_amazon/ to test-curated-hub-us-east-1-01302024/test-public-models/Model/huggingface-llm-falcon-40b-bf16-1e9c09c6-6dcd-4a85-8a5a-b362de213e8a/1.2.0/training-datasets/sec_amazon/ complete!\n",
      "Copying demo notebook from jumpstart-cache-prod-us-east-1/huggingface-notebooks/huggingface-llm-falcon-40b-bf16-inference.ipynb to test-curated-hub-us-east-1-01302024/test-public-models/Model/huggingface-llm-falcon-40b-bf16-1e9c09c6-6dcd-4a85-8a5a-b362de213e8a/1.2.0/host/notebook.ipynb complete!\n",
      "Copying training dataset from jumpstart-cache-prod-us-east-1/training-datasets/sec_amazon/AMZN_2021_2022_train_js.txt to test-curated-hub-us-east-1-01302024/test-public-models/Model/huggingface-llm-falcon-40b-bf16-1e9c09c6-6dcd-4a85-8a5a-b362de213e8a/1.2.0/training-datasets/sec_amazon/AMZN_2021_2022_train_js.txt complete!\n",
      "Copying markdown from jumpstart-cache-prod-us-east-1/huggingface-metadata/huggingface-llm-falcon-40b-bf16.md to test-curated-hub-us-east-1-01302024/test-public-models/Model/huggingface-llm-falcon-40b-bf16-1e9c09c6-6dcd-4a85-8a5a-b362de213e8a/1.2.0/markdown.md complete!\n",
      "Copying training script from jumpstart-cache-prod-us-east-1/source-directory-tarballs/huggingface/transfer_learning/llm/prepack/v1.0.3/sourcedir.tar.gz to test-curated-hub-us-east-1-01302024/test-public-models/Model/huggingface-llm-falcon-40b-bf16-1e9c09c6-6dcd-4a85-8a5a-b362de213e8a/1.2.0/train/sourcedir.tar.gz complete!\n"
     ]
    }
   ],
   "source": [
    "test_curated_hub.sync(test_models)"
   ]
  },
  {
   "cell_type": "code",
   "execution_count": null,
   "id": "d1ed8f68-f2e2-4f05-8e0a-42a647c0609f",
   "metadata": {
    "tags": []
   },
   "outputs": [],
   "source": [
    "# Check out the new models on the curated hub\n",
    "\n",
    "test_curated_hub.list_models()"
   ]
  },
  {
   "cell_type": "code",
   "execution_count": null,
   "id": "46c8296b-e3d0-41e7-a295-ca80bad46dc3",
   "metadata": {
    "tags": []
   },
   "outputs": [],
   "source": [
    "# Delete models from curated hub\n"
   ]
  },
  {
   "cell_type": "code",
   "execution_count": null,
   "id": "ad754fe3-42bd-4f23-adac-badcd5ce54ba",
   "metadata": {},
   "outputs": [],
   "source": []
  }
 ],
 "metadata": {
  "availableInstances": [
   {
    "_defaultOrder": 0,
    "_isFastLaunch": true,
    "category": "General purpose",
    "gpuNum": 0,
    "hideHardwareSpecs": false,
    "memoryGiB": 4,
    "name": "ml.t3.medium",
    "vcpuNum": 2
   },
   {
    "_defaultOrder": 1,
    "_isFastLaunch": false,
    "category": "General purpose",
    "gpuNum": 0,
    "hideHardwareSpecs": false,
    "memoryGiB": 8,
    "name": "ml.t3.large",
    "vcpuNum": 2
   },
   {
    "_defaultOrder": 2,
    "_isFastLaunch": false,
    "category": "General purpose",
    "gpuNum": 0,
    "hideHardwareSpecs": false,
    "memoryGiB": 16,
    "name": "ml.t3.xlarge",
    "vcpuNum": 4
   },
   {
    "_defaultOrder": 3,
    "_isFastLaunch": false,
    "category": "General purpose",
    "gpuNum": 0,
    "hideHardwareSpecs": false,
    "memoryGiB": 32,
    "name": "ml.t3.2xlarge",
    "vcpuNum": 8
   },
   {
    "_defaultOrder": 4,
    "_isFastLaunch": true,
    "category": "General purpose",
    "gpuNum": 0,
    "hideHardwareSpecs": false,
    "memoryGiB": 8,
    "name": "ml.m5.large",
    "vcpuNum": 2
   },
   {
    "_defaultOrder": 5,
    "_isFastLaunch": false,
    "category": "General purpose",
    "gpuNum": 0,
    "hideHardwareSpecs": false,
    "memoryGiB": 16,
    "name": "ml.m5.xlarge",
    "vcpuNum": 4
   },
   {
    "_defaultOrder": 6,
    "_isFastLaunch": false,
    "category": "General purpose",
    "gpuNum": 0,
    "hideHardwareSpecs": false,
    "memoryGiB": 32,
    "name": "ml.m5.2xlarge",
    "vcpuNum": 8
   },
   {
    "_defaultOrder": 7,
    "_isFastLaunch": false,
    "category": "General purpose",
    "gpuNum": 0,
    "hideHardwareSpecs": false,
    "memoryGiB": 64,
    "name": "ml.m5.4xlarge",
    "vcpuNum": 16
   },
   {
    "_defaultOrder": 8,
    "_isFastLaunch": false,
    "category": "General purpose",
    "gpuNum": 0,
    "hideHardwareSpecs": false,
    "memoryGiB": 128,
    "name": "ml.m5.8xlarge",
    "vcpuNum": 32
   },
   {
    "_defaultOrder": 9,
    "_isFastLaunch": false,
    "category": "General purpose",
    "gpuNum": 0,
    "hideHardwareSpecs": false,
    "memoryGiB": 192,
    "name": "ml.m5.12xlarge",
    "vcpuNum": 48
   },
   {
    "_defaultOrder": 10,
    "_isFastLaunch": false,
    "category": "General purpose",
    "gpuNum": 0,
    "hideHardwareSpecs": false,
    "memoryGiB": 256,
    "name": "ml.m5.16xlarge",
    "vcpuNum": 64
   },
   {
    "_defaultOrder": 11,
    "_isFastLaunch": false,
    "category": "General purpose",
    "gpuNum": 0,
    "hideHardwareSpecs": false,
    "memoryGiB": 384,
    "name": "ml.m5.24xlarge",
    "vcpuNum": 96
   },
   {
    "_defaultOrder": 12,
    "_isFastLaunch": false,
    "category": "General purpose",
    "gpuNum": 0,
    "hideHardwareSpecs": false,
    "memoryGiB": 8,
    "name": "ml.m5d.large",
    "vcpuNum": 2
   },
   {
    "_defaultOrder": 13,
    "_isFastLaunch": false,
    "category": "General purpose",
    "gpuNum": 0,
    "hideHardwareSpecs": false,
    "memoryGiB": 16,
    "name": "ml.m5d.xlarge",
    "vcpuNum": 4
   },
   {
    "_defaultOrder": 14,
    "_isFastLaunch": false,
    "category": "General purpose",
    "gpuNum": 0,
    "hideHardwareSpecs": false,
    "memoryGiB": 32,
    "name": "ml.m5d.2xlarge",
    "vcpuNum": 8
   },
   {
    "_defaultOrder": 15,
    "_isFastLaunch": false,
    "category": "General purpose",
    "gpuNum": 0,
    "hideHardwareSpecs": false,
    "memoryGiB": 64,
    "name": "ml.m5d.4xlarge",
    "vcpuNum": 16
   },
   {
    "_defaultOrder": 16,
    "_isFastLaunch": false,
    "category": "General purpose",
    "gpuNum": 0,
    "hideHardwareSpecs": false,
    "memoryGiB": 128,
    "name": "ml.m5d.8xlarge",
    "vcpuNum": 32
   },
   {
    "_defaultOrder": 17,
    "_isFastLaunch": false,
    "category": "General purpose",
    "gpuNum": 0,
    "hideHardwareSpecs": false,
    "memoryGiB": 192,
    "name": "ml.m5d.12xlarge",
    "vcpuNum": 48
   },
   {
    "_defaultOrder": 18,
    "_isFastLaunch": false,
    "category": "General purpose",
    "gpuNum": 0,
    "hideHardwareSpecs": false,
    "memoryGiB": 256,
    "name": "ml.m5d.16xlarge",
    "vcpuNum": 64
   },
   {
    "_defaultOrder": 19,
    "_isFastLaunch": false,
    "category": "General purpose",
    "gpuNum": 0,
    "hideHardwareSpecs": false,
    "memoryGiB": 384,
    "name": "ml.m5d.24xlarge",
    "vcpuNum": 96
   },
   {
    "_defaultOrder": 20,
    "_isFastLaunch": false,
    "category": "General purpose",
    "gpuNum": 0,
    "hideHardwareSpecs": true,
    "memoryGiB": 0,
    "name": "ml.geospatial.interactive",
    "supportedImageNames": [
     "sagemaker-geospatial-v1-0"
    ],
    "vcpuNum": 0
   },
   {
    "_defaultOrder": 21,
    "_isFastLaunch": true,
    "category": "Compute optimized",
    "gpuNum": 0,
    "hideHardwareSpecs": false,
    "memoryGiB": 4,
    "name": "ml.c5.large",
    "vcpuNum": 2
   },
   {
    "_defaultOrder": 22,
    "_isFastLaunch": false,
    "category": "Compute optimized",
    "gpuNum": 0,
    "hideHardwareSpecs": false,
    "memoryGiB": 8,
    "name": "ml.c5.xlarge",
    "vcpuNum": 4
   },
   {
    "_defaultOrder": 23,
    "_isFastLaunch": false,
    "category": "Compute optimized",
    "gpuNum": 0,
    "hideHardwareSpecs": false,
    "memoryGiB": 16,
    "name": "ml.c5.2xlarge",
    "vcpuNum": 8
   },
   {
    "_defaultOrder": 24,
    "_isFastLaunch": false,
    "category": "Compute optimized",
    "gpuNum": 0,
    "hideHardwareSpecs": false,
    "memoryGiB": 32,
    "name": "ml.c5.4xlarge",
    "vcpuNum": 16
   },
   {
    "_defaultOrder": 25,
    "_isFastLaunch": false,
    "category": "Compute optimized",
    "gpuNum": 0,
    "hideHardwareSpecs": false,
    "memoryGiB": 72,
    "name": "ml.c5.9xlarge",
    "vcpuNum": 36
   },
   {
    "_defaultOrder": 26,
    "_isFastLaunch": false,
    "category": "Compute optimized",
    "gpuNum": 0,
    "hideHardwareSpecs": false,
    "memoryGiB": 96,
    "name": "ml.c5.12xlarge",
    "vcpuNum": 48
   },
   {
    "_defaultOrder": 27,
    "_isFastLaunch": false,
    "category": "Compute optimized",
    "gpuNum": 0,
    "hideHardwareSpecs": false,
    "memoryGiB": 144,
    "name": "ml.c5.18xlarge",
    "vcpuNum": 72
   },
   {
    "_defaultOrder": 28,
    "_isFastLaunch": false,
    "category": "Compute optimized",
    "gpuNum": 0,
    "hideHardwareSpecs": false,
    "memoryGiB": 192,
    "name": "ml.c5.24xlarge",
    "vcpuNum": 96
   },
   {
    "_defaultOrder": 29,
    "_isFastLaunch": true,
    "category": "Accelerated computing",
    "gpuNum": 1,
    "hideHardwareSpecs": false,
    "memoryGiB": 16,
    "name": "ml.g4dn.xlarge",
    "vcpuNum": 4
   },
   {
    "_defaultOrder": 30,
    "_isFastLaunch": false,
    "category": "Accelerated computing",
    "gpuNum": 1,
    "hideHardwareSpecs": false,
    "memoryGiB": 32,
    "name": "ml.g4dn.2xlarge",
    "vcpuNum": 8
   },
   {
    "_defaultOrder": 31,
    "_isFastLaunch": false,
    "category": "Accelerated computing",
    "gpuNum": 1,
    "hideHardwareSpecs": false,
    "memoryGiB": 64,
    "name": "ml.g4dn.4xlarge",
    "vcpuNum": 16
   },
   {
    "_defaultOrder": 32,
    "_isFastLaunch": false,
    "category": "Accelerated computing",
    "gpuNum": 1,
    "hideHardwareSpecs": false,
    "memoryGiB": 128,
    "name": "ml.g4dn.8xlarge",
    "vcpuNum": 32
   },
   {
    "_defaultOrder": 33,
    "_isFastLaunch": false,
    "category": "Accelerated computing",
    "gpuNum": 4,
    "hideHardwareSpecs": false,
    "memoryGiB": 192,
    "name": "ml.g4dn.12xlarge",
    "vcpuNum": 48
   },
   {
    "_defaultOrder": 34,
    "_isFastLaunch": false,
    "category": "Accelerated computing",
    "gpuNum": 1,
    "hideHardwareSpecs": false,
    "memoryGiB": 256,
    "name": "ml.g4dn.16xlarge",
    "vcpuNum": 64
   },
   {
    "_defaultOrder": 35,
    "_isFastLaunch": false,
    "category": "Accelerated computing",
    "gpuNum": 1,
    "hideHardwareSpecs": false,
    "memoryGiB": 61,
    "name": "ml.p3.2xlarge",
    "vcpuNum": 8
   },
   {
    "_defaultOrder": 36,
    "_isFastLaunch": false,
    "category": "Accelerated computing",
    "gpuNum": 4,
    "hideHardwareSpecs": false,
    "memoryGiB": 244,
    "name": "ml.p3.8xlarge",
    "vcpuNum": 32
   },
   {
    "_defaultOrder": 37,
    "_isFastLaunch": false,
    "category": "Accelerated computing",
    "gpuNum": 8,
    "hideHardwareSpecs": false,
    "memoryGiB": 488,
    "name": "ml.p3.16xlarge",
    "vcpuNum": 64
   },
   {
    "_defaultOrder": 38,
    "_isFastLaunch": false,
    "category": "Accelerated computing",
    "gpuNum": 8,
    "hideHardwareSpecs": false,
    "memoryGiB": 768,
    "name": "ml.p3dn.24xlarge",
    "vcpuNum": 96
   },
   {
    "_defaultOrder": 39,
    "_isFastLaunch": false,
    "category": "Memory Optimized",
    "gpuNum": 0,
    "hideHardwareSpecs": false,
    "memoryGiB": 16,
    "name": "ml.r5.large",
    "vcpuNum": 2
   },
   {
    "_defaultOrder": 40,
    "_isFastLaunch": false,
    "category": "Memory Optimized",
    "gpuNum": 0,
    "hideHardwareSpecs": false,
    "memoryGiB": 32,
    "name": "ml.r5.xlarge",
    "vcpuNum": 4
   },
   {
    "_defaultOrder": 41,
    "_isFastLaunch": false,
    "category": "Memory Optimized",
    "gpuNum": 0,
    "hideHardwareSpecs": false,
    "memoryGiB": 64,
    "name": "ml.r5.2xlarge",
    "vcpuNum": 8
   },
   {
    "_defaultOrder": 42,
    "_isFastLaunch": false,
    "category": "Memory Optimized",
    "gpuNum": 0,
    "hideHardwareSpecs": false,
    "memoryGiB": 128,
    "name": "ml.r5.4xlarge",
    "vcpuNum": 16
   },
   {
    "_defaultOrder": 43,
    "_isFastLaunch": false,
    "category": "Memory Optimized",
    "gpuNum": 0,
    "hideHardwareSpecs": false,
    "memoryGiB": 256,
    "name": "ml.r5.8xlarge",
    "vcpuNum": 32
   },
   {
    "_defaultOrder": 44,
    "_isFastLaunch": false,
    "category": "Memory Optimized",
    "gpuNum": 0,
    "hideHardwareSpecs": false,
    "memoryGiB": 384,
    "name": "ml.r5.12xlarge",
    "vcpuNum": 48
   },
   {
    "_defaultOrder": 45,
    "_isFastLaunch": false,
    "category": "Memory Optimized",
    "gpuNum": 0,
    "hideHardwareSpecs": false,
    "memoryGiB": 512,
    "name": "ml.r5.16xlarge",
    "vcpuNum": 64
   },
   {
    "_defaultOrder": 46,
    "_isFastLaunch": false,
    "category": "Memory Optimized",
    "gpuNum": 0,
    "hideHardwareSpecs": false,
    "memoryGiB": 768,
    "name": "ml.r5.24xlarge",
    "vcpuNum": 96
   },
   {
    "_defaultOrder": 47,
    "_isFastLaunch": false,
    "category": "Accelerated computing",
    "gpuNum": 1,
    "hideHardwareSpecs": false,
    "memoryGiB": 16,
    "name": "ml.g5.xlarge",
    "vcpuNum": 4
   },
   {
    "_defaultOrder": 48,
    "_isFastLaunch": false,
    "category": "Accelerated computing",
    "gpuNum": 1,
    "hideHardwareSpecs": false,
    "memoryGiB": 32,
    "name": "ml.g5.2xlarge",
    "vcpuNum": 8
   },
   {
    "_defaultOrder": 49,
    "_isFastLaunch": false,
    "category": "Accelerated computing",
    "gpuNum": 1,
    "hideHardwareSpecs": false,
    "memoryGiB": 64,
    "name": "ml.g5.4xlarge",
    "vcpuNum": 16
   },
   {
    "_defaultOrder": 50,
    "_isFastLaunch": false,
    "category": "Accelerated computing",
    "gpuNum": 1,
    "hideHardwareSpecs": false,
    "memoryGiB": 128,
    "name": "ml.g5.8xlarge",
    "vcpuNum": 32
   },
   {
    "_defaultOrder": 51,
    "_isFastLaunch": false,
    "category": "Accelerated computing",
    "gpuNum": 1,
    "hideHardwareSpecs": false,
    "memoryGiB": 256,
    "name": "ml.g5.16xlarge",
    "vcpuNum": 64
   },
   {
    "_defaultOrder": 52,
    "_isFastLaunch": false,
    "category": "Accelerated computing",
    "gpuNum": 4,
    "hideHardwareSpecs": false,
    "memoryGiB": 192,
    "name": "ml.g5.12xlarge",
    "vcpuNum": 48
   },
   {
    "_defaultOrder": 53,
    "_isFastLaunch": false,
    "category": "Accelerated computing",
    "gpuNum": 4,
    "hideHardwareSpecs": false,
    "memoryGiB": 384,
    "name": "ml.g5.24xlarge",
    "vcpuNum": 96
   },
   {
    "_defaultOrder": 54,
    "_isFastLaunch": false,
    "category": "Accelerated computing",
    "gpuNum": 8,
    "hideHardwareSpecs": false,
    "memoryGiB": 768,
    "name": "ml.g5.48xlarge",
    "vcpuNum": 192
   },
   {
    "_defaultOrder": 55,
    "_isFastLaunch": false,
    "category": "Accelerated computing",
    "gpuNum": 8,
    "hideHardwareSpecs": false,
    "memoryGiB": 1152,
    "name": "ml.p4d.24xlarge",
    "vcpuNum": 96
   },
   {
    "_defaultOrder": 56,
    "_isFastLaunch": false,
    "category": "Accelerated computing",
    "gpuNum": 8,
    "hideHardwareSpecs": false,
    "memoryGiB": 1152,
    "name": "ml.p4de.24xlarge",
    "vcpuNum": 96
   },
   {
    "_defaultOrder": 57,
    "_isFastLaunch": false,
    "category": "Accelerated computing",
    "gpuNum": 0,
    "hideHardwareSpecs": false,
    "memoryGiB": 32,
    "name": "ml.trn1.2xlarge",
    "vcpuNum": 8
   },
   {
    "_defaultOrder": 58,
    "_isFastLaunch": false,
    "category": "Accelerated computing",
    "gpuNum": 0,
    "hideHardwareSpecs": false,
    "memoryGiB": 512,
    "name": "ml.trn1.32xlarge",
    "vcpuNum": 128
   },
   {
    "_defaultOrder": 59,
    "_isFastLaunch": false,
    "category": "Accelerated computing",
    "gpuNum": 0,
    "hideHardwareSpecs": false,
    "memoryGiB": 512,
    "name": "ml.trn1n.32xlarge",
    "vcpuNum": 128
   }
  ],
  "instance_type": "ml.t3.medium",
  "kernelspec": {
   "display_name": "Python 3 (Data Science 3.0)",
   "language": "python",
   "name": "python3__SAGEMAKER_INTERNAL__arn:aws:sagemaker:us-east-1:081325390199:image/sagemaker-data-science-310-v1"
  },
  "language_info": {
   "codemirror_mode": {
    "name": "ipython",
    "version": 3
   },
   "file_extension": ".py",
   "mimetype": "text/x-python",
   "name": "python",
   "nbconvert_exporter": "python",
   "pygments_lexer": "ipython3",
   "version": "3.10.6"
  }
 },
 "nbformat": 4,
 "nbformat_minor": 5
}
